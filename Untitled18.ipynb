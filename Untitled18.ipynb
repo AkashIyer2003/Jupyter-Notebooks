{
 "cells": [
  {
   "cell_type": "code",
   "execution_count": 1,
   "id": "fe315f79",
   "metadata": {},
   "outputs": [],
   "source": [
    "import re"
   ]
  },
  {
   "cell_type": "code",
   "execution_count": 13,
   "id": "f9ae048e",
   "metadata": {},
   "outputs": [
    {
     "name": "stdout",
     "output_type": "stream",
     "text": [
      "['a_r']\n"
     ]
    }
   ],
   "source": [
    "text1=\"hello how a_r_e you?\"\n",
    "\n",
    "pattern1=\"[a-z]+_[a-z]+\"\n",
    "\n",
    "result1 = re.findall(pattern1,text1)\n",
    "\n",
    "print(result1)"
   ]
  },
  {
   "cell_type": "code",
   "execution_count": 12,
   "id": "f61d8109",
   "metadata": {},
   "outputs": [
    {
     "name": "stdout",
     "output_type": "stream",
     "text": [
      "['surya@gmail.com']\n"
     ]
    }
   ],
   "source": [
    "text2=\"surya@gmail.com is my gmail\"\n",
    "\n",
    "pattern2=\"[a-z]+@[a-z]+\\.com\"\n",
    "\n",
    "result2 = re.findall(pattern2,text2)\n",
    "\n",
    "print(result2)"
   ]
  },
  {
   "cell_type": "code",
   "execution_count": 15,
   "id": "206ff411",
   "metadata": {},
   "outputs": [
    {
     "name": "stdout",
     "output_type": "stream",
     "text": [
      "<re.Match object; span=(0, 4), match='arab'>\n"
     ]
    }
   ],
   "source": [
    "text3 = \"arab\"\n",
    "\n",
    "pattern3 = \"^a+[A-z]+(b)$\"\n",
    "\n",
    "result3 = re.match(pattern3,text3)\n",
    "\n",
    "print(result3)"
   ]
  },
  {
   "cell_type": "code",
   "execution_count": 16,
   "id": "f0b472e5",
   "metadata": {},
   "outputs": [
    {
     "data": {
      "text/plain": [
       "'Hello_world_2003'"
      ]
     },
     "execution_count": 16,
     "metadata": {},
     "output_type": "execute_result"
    }
   ],
   "source": [
    "text4 = \"Hello world 2003\"\n",
    "\n",
    "pattern4 = \" \"\n",
    "\n",
    "correction = \"_\"\n",
    "\n",
    "re.sub(pattern4,correction,text4)"
   ]
  },
  {
   "cell_type": "code",
   "execution_count": null,
   "id": "1c8065da",
   "metadata": {},
   "outputs": [],
   "source": [
    "def change_date_format(dt):\n",
    "        return re.sub(r'(\\d{4})-(\\d{1,2})-(\\d{1,2})', '\\\\3-\\\\2-\\\\1', dt)\n",
    "dt1 = \"2026-01-02\"\n",
    "print(\"Original date in YYY-MM-DD Format: \",dt1)\n",
    "print(\"New date in DD-MM-YYYY Format: \",change_date_format(dt1))"
   ]
  }
 ],
 "metadata": {
  "kernelspec": {
   "display_name": "Python 3 (ipykernel)",
   "language": "python",
   "name": "python3"
  },
  "language_info": {
   "codemirror_mode": {
    "name": "ipython",
    "version": 3
   },
   "file_extension": ".py",
   "mimetype": "text/x-python",
   "name": "python",
   "nbconvert_exporter": "python",
   "pygments_lexer": "ipython3",
   "version": "3.9.13"
  }
 },
 "nbformat": 4,
 "nbformat_minor": 5
}

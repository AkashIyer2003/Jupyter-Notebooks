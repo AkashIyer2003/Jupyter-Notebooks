{
 "cells": [
  {
   "cell_type": "code",
   "execution_count": 1,
   "id": "0c3aca95",
   "metadata": {},
   "outputs": [],
   "source": [
    "import re"
   ]
  },
  {
   "cell_type": "code",
   "execution_count": 2,
   "id": "5e680bb9",
   "metadata": {},
   "outputs": [
    {
     "name": "stdout",
     "output_type": "stream",
     "text": [
      "['a_r']\n"
     ]
    }
   ],
   "source": [
    "text1=\"hello how a_r_e you?\"\n",
    "\n",
    "pattern1=\"[a-z]+_[a-z]+\"\n",
    "\n",
    "result1 = re.findall(pattern1,text1)\n",
    "\n",
    "print(result1)"
   ]
  },
  {
   "cell_type": "code",
   "execution_count": 3,
   "id": "5215ed03",
   "metadata": {},
   "outputs": [
    {
     "name": "stdout",
     "output_type": "stream",
     "text": [
      "['surya@gmail.com']\n"
     ]
    }
   ],
   "source": [
    "text2=\"surya@gmail.com is my gmail\"\n",
    "\n",
    "pattern2=\"[a-z]+@[a-z]+\\.com\"\n",
    "\n",
    "result2 = re.findall(pattern2,text2)\n",
    "\n",
    "print(result2)"
   ]
  },
  {
   "cell_type": "code",
   "execution_count": 4,
   "id": "2830de99",
   "metadata": {},
   "outputs": [
    {
     "name": "stdout",
     "output_type": "stream",
     "text": [
      "<re.Match object; span=(0, 4), match='arab'>\n"
     ]
    }
   ],
   "source": [
    "text3 = \"arab\"\n",
    "\n",
    "pattern3 = \"^a+[A-z]+(b)$\"\n",
    "\n",
    "result3 = re.match(pattern3,text3)\n",
    "\n",
    "print(result3)"
   ]
  },
  {
   "cell_type": "code",
   "execution_count": 5,
   "id": "6e5c7dd9",
   "metadata": {},
   "outputs": [
    {
     "data": {
      "text/plain": [
       "'Hello_world_2003'"
      ]
     },
     "execution_count": 5,
     "metadata": {},
     "output_type": "execute_result"
    }
   ],
   "source": [
    "text4 = \"Hello world 2003\"\n",
    "\n",
    "pattern4 = \" \"\n",
    "\n",
    "correction = \"_\"\n",
    "\n",
    "re.sub(pattern4,correction,text4)"
   ]
  },
  {
   "cell_type": "code",
   "execution_count": 6,
   "id": "1a0f736e",
   "metadata": {},
   "outputs": [
    {
     "name": "stdout",
     "output_type": "stream",
     "text": [
      "Original date in YYYY-MM-DD Format:  2022-10-28\n",
      "New date in DD-MM-YYYY Format:  28-10-2022\n"
     ]
    }
   ],
   "source": [
    "def change_date_format(dt):\n",
    "        return re.sub(r'(\\d{4})-(\\d{1,2})-(\\d{1,2})', '\\\\3-\\\\2-\\\\1', dt)\n",
    "text5 = \"2022-10-28\"\n",
    "print(\"Original date in YYYY-MM-DD Format: \",text5)\n",
    "print(\"New date in DD-MM-YYYY Format: \",change_date_format(text5))"
   ]
  }
 ],
 "metadata": {
  "kernelspec": {
   "display_name": "Python 3 (ipykernel)",
   "language": "python",
   "name": "python3"
  },
  "language_info": {
   "codemirror_mode": {
    "name": "ipython",
    "version": 3
   },
   "file_extension": ".py",
   "mimetype": "text/x-python",
   "name": "python",
   "nbconvert_exporter": "python",
   "pygments_lexer": "ipython3",
   "version": "3.7.13"
  }
 },
 "nbformat": 4,
 "nbformat_minor": 5
}

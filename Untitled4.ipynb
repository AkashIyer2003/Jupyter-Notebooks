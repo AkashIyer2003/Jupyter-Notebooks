{
 "cells": [
  {
   "cell_type": "code",
   "execution_count": 2,
   "id": "a3b94bc9",
   "metadata": {},
   "outputs": [],
   "source": [
    "from chatterbot import ChatBot"
   ]
  },
  {
   "cell_type": "code",
   "execution_count": 3,
   "id": "9d82829b",
   "metadata": {},
   "outputs": [
    {
     "name": "stderr",
     "output_type": "stream",
     "text": [
      "[nltk_data] Downloading package averaged_perceptron_tagger to\n",
      "[nltk_data]     /Users/akash/nltk_data...\n",
      "[nltk_data]   Package averaged_perceptron_tagger is already up-to-\n",
      "[nltk_data]       date!\n",
      "[nltk_data] Downloading package punkt to /Users/akash/nltk_data...\n",
      "[nltk_data]   Package punkt is already up-to-date!\n",
      "[nltk_data] Downloading package stopwords to /Users/akash/nltk_data...\n",
      "[nltk_data]   Package stopwords is already up-to-date!\n"
     ]
    }
   ],
   "source": [
    "Chatty = ChatBot('Interviewer', read_only = True)"
   ]
  },
  {
   "cell_type": "code",
   "execution_count": 5,
   "id": "8595fb7b",
   "metadata": {},
   "outputs": [
    {
     "name": "stdout",
     "output_type": "stream",
     "text": [
      "List Trainer: [####################] 100%\n",
      "List Trainer: [####################] 100%\n"
     ]
    }
   ],
   "source": [
    "from chatterbot.trainers import ListTrainer\n",
    "trainer = ListTrainer(Chatty)\n",
    "trainer.train([\n",
    "    \"Hi, can I help you\",\n",
    "    \"I am your interviewer.Why did you apply for the job?\",\n",
    "    \"Tell me about yourself\",\n",
    "    \"Where do you see yourself in 5 years?\",\n",
    "    \"We are currently looking out for bright minds\",\n",
    "    \"Do you think you are cutout for the job?\",\n",
    "    \"Can you please submit your cv for analysis\",\n",
    "    \"How did you come to hear about the interview\",\n",
    "    \"Thank you for reaching out\"\n",
    "    \n",
    "])\n",
    "trainer.train([\n",
    "    \"What do you offer to the company?\",\n",
    "    \"Are you satisfied with your current state\",\n",
    "    \"please call +65 3333 3333. Our operating hours are from 9am to 5pm, Monday to Friday\"\n",
    "    \n",
    "])"
   ]
  },
  {
   "cell_type": "code",
   "execution_count": 15,
   "id": "1031cf86",
   "metadata": {},
   "outputs": [
    {
     "name": "stdout",
     "output_type": "stream",
     "text": [
      "We accept debit cards and major credit cards\n"
     ]
    }
   ],
   "source": [
    "response = Chatty.get_response ('payment method')\n",
    "print(response)"
   ]
  },
  {
   "cell_type": "code",
   "execution_count": null,
   "id": "7aff3fb8",
   "metadata": {},
   "outputs": [
    {
     "name": "stdout",
     "output_type": "stream",
     "text": [
      "Enter Your Name: Akash\n",
      "Welcome to our interview! make yourself comfortable\n",
      "Akash:Hello\n",
      "Chatty:  Hi\n",
      "Akash:What am i supposed to do here\n",
      "Chatty:  you are a cheat\n",
      "Akash:Oh thats sad\n",
      "Chatty:  This can not happen because i am effectively immortal.\n"
     ]
    }
   ],
   "source": [
    "name = input('Enter Your Name: ')\n",
    "print ('Welcome to our interview! make yourself comfortable')\n",
    "while True:\n",
    "    \n",
    "    request = input(name+':')\n",
    "    \n",
    "    if request==\"Bye\" or request=='bye':\n",
    "        print('Chatty: Bye')\n",
    "        break\n",
    "    else:\n",
    "        response=Chatty.get_response(request)\n",
    "        print('Chatty: ', response)"
   ]
  },
  {
   "cell_type": "code",
   "execution_count": 17,
   "id": "74b307f4",
   "metadata": {},
   "outputs": [
    {
     "name": "stdout",
     "output_type": "stream",
     "text": [
      "Training ai.yml: [####################] 100%\n",
      "Training botprofile.yml: [####################] 100%\n",
      "Training computers.yml: [####################] 100%\n",
      "Training conversations.yml: [####################] 100%\n",
      "Training emotion.yml: [####################] 100%\n",
      "Training food.yml: [####################] 100%\n",
      "Training gossip.yml: [####################] 100%\n",
      "Training greetings.yml: [####################] 100%\n",
      "Training health.yml: [####################] 100%\n",
      "Training history.yml: [####################] 100%\n",
      "Training humor.yml: [####################] 100%\n",
      "Training literature.yml: [####################] 100%\n",
      "Training money.yml: [####################] 100%\n",
      "Training movies.yml: [####################] 100%\n",
      "Training politics.yml: [####################] 100%\n",
      "Training psychology.yml: [####################] 100%\n",
      "Training science.yml: [####################] 100%\n",
      "Training sports.yml: [####################] 100%\n",
      "Training trivia.yml: [####################] 100%\n"
     ]
    }
   ],
   "source": [
    "from chatterbot.trainers import ChatterBotCorpusTrainer\n",
    "trainer = ChatterBotCorpusTrainer(Chatty)\n",
    "trainer.train('chatterbot.corpus.english')"
   ]
  },
  {
   "cell_type": "code",
   "execution_count": null,
   "id": "9bd754a5",
   "metadata": {},
   "outputs": [],
   "source": []
  }
 ],
 "metadata": {
  "kernelspec": {
   "display_name": "Python 3 (ipykernel)",
   "language": "python",
   "name": "python3"
  },
  "language_info": {
   "codemirror_mode": {
    "name": "ipython",
    "version": 3
   },
   "file_extension": ".py",
   "mimetype": "text/x-python",
   "name": "python",
   "nbconvert_exporter": "python",
   "pygments_lexer": "ipython3",
   "version": "3.9.7"
  }
 },
 "nbformat": 4,
 "nbformat_minor": 5
}

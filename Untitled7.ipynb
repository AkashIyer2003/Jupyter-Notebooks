{
 "cells": [
  {
   "cell_type": "code",
   "execution_count": 1,
   "id": "80d523e0",
   "metadata": {},
   "outputs": [
    {
     "ename": "SyntaxError",
     "evalue": "EOL while scanning string literal (4211012048.py, line 59)",
     "output_type": "error",
     "traceback": [
      "\u001b[0;36m  File \u001b[0;32m\"/var/folders/zx/mhdl9f0d1c552plym17cmqym0000gn/T/ipykernel_21487/4211012048.py\"\u001b[0;36m, line \u001b[0;32m59\u001b[0m\n\u001b[0;31m    return interviewer + ', please. You already asked me\u001b[0m\n\u001b[0m                                                         ^\u001b[0m\n\u001b[0;31mSyntaxError\u001b[0m\u001b[0;31m:\u001b[0m EOL while scanning string literal\n"
     ]
    }
   ],
   "source": [
    "from termcolor import colored\n",
    "import markovify\n",
    "import datetime\n",
    "import smtplib\n",
    "import random\n",
    "import time\n",
    "import json\n",
    "import sys\n",
    "import os\n",
    "\n",
    "# Get model for prompts\n",
    "with open('./model.json') as data_file:\n",
    "    model = json.load(data_file)\n",
    "\n",
    "# Get raw text as string.\n",
    "with open(\"./words.txt\") as f:\n",
    "    text = f.read()\n",
    "\n",
    "index = 0\n",
    "transcript = {}\n",
    "interviewer = ''\n",
    "email = ''\n",
    "\n",
    "bot_email = os.environ.get('INTERVIEW_BOT_EMAIL')\n",
    "bot_email_password = os.environ.get('INTERVIEW_BOT_EMAIL_PASSWORD')\n",
    "interviewee = os.environ.get('INTERVIEWEE')\n",
    "interviewee_email = os.environ.get('INTERVIEWEE_EMAIL')\n",
    "\n",
    "def is_common_question(interview_question):\n",
    "    q = interview_question.lower()\n",
    "    answer = False\n",
    "\n",
    "    for j in model['common']:\n",
    "        hasQ = j in q\n",
    "        # question is within 10 characters of common question\n",
    "        closeEnough = len(q) <= (len(j) + 5) and len(q) >= (len(j) - 5)\n",
    "        if hasQ and closeEnough:\n",
    "            answer = str(model['common'][j])\n",
    "\n",
    "    return answer\n",
    "\n",
    "def respond(interview_question):\n",
    "    global index\n",
    "    global transcript\n",
    "    answer = ''\n",
    "\n",
    "    # get question words\n",
    "    wordlist = interview_question.split()\n",
    "\n",
    "    # check if actually a question\n",
    "    if not wordlist[-1].endswith('?') and wordlist[-1] != '?':\n",
    "        return 'Please, let\\'s stick to questions only.'\n",
    "\n",
    "    # check if already asked\n",
    "    if (len(transcript) >= 1):\n",
    "        for i in transcript:\n",
    "            if (transcript[i]['question'].lower() == \n",
    "interview_question.lower()):\n",
    "                return interviewer + ', please. You already asked me \n",
    "that.'\n",
    "\n",
    "    # check if common question\n",
    "    common = is_common_question(interview_question)\n",
    "    if (type(common) is str):\n",
    "        return common\n",
    "\n",
    "    # Build the model.\n",
    "    text_model = markovify.Text(text)\n",
    "\n",
    "    # generate response\n",
    "    for i in range(random.randint(1, 5)):\n",
    "        answer += text_model.make_sentence()\n",
    "\n",
    "    # save question + response\n",
    "    # transcript[str(index)]['answer'] = nswer\n",
    "    transcript.update({index: {\n",
    "            'question': interview_question,\n",
    "            'response': answer\n",
    "        }})\n",
    "\n",
    "    # increment index + return response\n",
    "    index += 1\n",
    "    return answer\n",
    "\n",
    "def end_interview():\n",
    "    print colored('Ok, ', 'red') + colored(interviewer, 'magenta') + \n",
    "colored(', thats enough questions for today. Thank you.', 'red')\n",
    "    print colored('I\\'ll send you an email of our conversation.', 'red')\n",
    "    print ''\n",
    "\n",
    "    message = ''\n",
    "\n",
    "    for q in transcript:\n",
    "        message += ('Question #' + str(q) + ': ')\n",
    "        message += '\\n'\n",
    "        message += ('You asked: ' + transcript[q]['question'])\n",
    "        message += '\\n'\n",
    "        message += ('I answered: ' + transcript[q]['response'])\n",
    "        message += '\\n'\n",
    "        message += '\\n'\n",
    "\n",
    "    content = MIMEText(str(message))\n",
    "    content['Subject'] = interviewer + ', here\\'s the ' + interviewee + ' \n",
    "Interview from ' + str(datetime.date.today()) + ' | ' + \n",
    "time.strftime(\"%H:%M:%S\")\n",
    "\n",
    "    s = smtplib.SMTP('smtp.gmail.com', 587)\n",
    "    s.ehlo()\n",
    "    s.starttls()\n",
    "    s.login(bot_email, bot_email_password)\n",
    "    s.sendmail(bot_email, email, content.as_string())\n",
    "    s.sendmail(interviewee_email, email, content.as_string())\n",
    "    s.close()\n",
    "\n",
    "    sys.exit()\n",
    "\n",
    "def question_loop():\n",
    "    global index\n",
    "\n",
    "    if index > len(model['prompts']) - 1:\n",
    "        end_interview()\n",
    "        return\n",
    "\n",
    "    question_str = model['prompts'][index]\n",
    "    interview_question = raw_input(colored(question_str, 'yellow'))\n",
    "    response = respond(interview_question)\n",
    "    print colored('-----------------------------', 'yellow')\n",
    "    print (colored(response, 'white'))\n",
    "    print ''\n",
    "\n",
    "    time.sleep(1)\n",
    "    question_loop()\n",
    "\n",
    "def start_interview():\n",
    "    global interviewer\n",
    "    global email\n",
    "    interviewer = raw_input(colored('Hey there! What\\'s your name? => ', \n",
    "'yellow'))\n",
    "    print ''\n",
    "    email = raw_input(colored(interviewer, 'magenta') + colored(', What\\'s \n",
    "your email? I\\'ll send a transcript of our interview => ', 'yellow'))\n",
    "    print ''\n",
    "\n",
    "    question_loop()\n",
    "\n",
    "start_interview()\n"
   ]
  },
  {
   "cell_type": "code",
   "execution_count": 2,
   "id": "d83d9130",
   "metadata": {},
   "outputs": [],
   "source": [
    "import numpy as np"
   ]
  },
  {
   "cell_type": "code",
   "execution_count": 3,
   "id": "9b947678",
   "metadata": {},
   "outputs": [],
   "source": [
    "a = [1,2,3,4,5]\n",
    "b = [6,7,8,9,10]\n",
    "c = [11,12,13,14,15]\n",
    "d = [16,17,18,19,20]\n",
    "e = [21,22,23,24,25]"
   ]
  },
  {
   "cell_type": "code",
   "execution_count": 4,
   "id": "42d6c2b8",
   "metadata": {},
   "outputs": [],
   "source": [
    "TBAG = np.array([a,b,c,d,e])"
   ]
  },
  {
   "cell_type": "code",
   "execution_count": 5,
   "id": "30c203e9",
   "metadata": {},
   "outputs": [
    {
     "data": {
      "text/plain": [
       "array([[ 1,  2,  3,  4,  5],\n",
       "       [ 6,  7,  8,  9, 10],\n",
       "       [11, 12, 13, 14, 15],\n",
       "       [16, 17, 18, 19, 20],\n",
       "       [21, 22, 23, 24, 25]])"
      ]
     },
     "execution_count": 5,
     "metadata": {},
     "output_type": "execute_result"
    }
   ],
   "source": [
    "TBAG"
   ]
  },
  {
   "cell_type": "code",
   "execution_count": 6,
   "id": "8364a461",
   "metadata": {},
   "outputs": [
    {
     "data": {
      "text/plain": [
       "20"
      ]
     },
     "execution_count": 6,
     "metadata": {},
     "output_type": "execute_result"
    }
   ],
   "source": [
    "TBAG[3,4]"
   ]
  },
  {
   "cell_type": "code",
   "execution_count": null,
   "id": "d1cda91c",
   "metadata": {},
   "outputs": [],
   "source": [
    "TBAG."
   ]
  }
 ],
 "metadata": {
  "kernelspec": {
   "display_name": "Python 3 (ipykernel)",
   "language": "python",
   "name": "python3"
  },
  "language_info": {
   "codemirror_mode": {
    "name": "ipython",
    "version": 3
   },
   "file_extension": ".py",
   "mimetype": "text/x-python",
   "name": "python",
   "nbconvert_exporter": "python",
   "pygments_lexer": "ipython3",
   "version": "3.9.7"
  }
 },
 "nbformat": 4,
 "nbformat_minor": 5
}
